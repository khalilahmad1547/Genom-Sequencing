{
  "cells": [
    {
      "cell_type": "code",
      "execution_count": null,
      "metadata": {},
      "outputs": [],
      "source": [
        "import sys"
      ]
    },
    {
      "cell_type": "code",
      "execution_count": null,
      "metadata": {},
      "outputs": [],
      "source": [
        "# setting new recursion limits\n",
        "sys.setrecursionlimit(10**6)"
      ]
    },
    {
      "cell_type": "code",
      "execution_count": null,
      "metadata": {},
      "outputs": [],
      "source": [
        "def readGenome(file_name: str) -> str:\n",
        "    \"\"\"\n",
        "    this functions takes (.fasta) file's name from which data has to be read.\n",
        "    file_name: file from which genome is to be read\n",
        "    returns:\n",
        "        genome as a string\n",
        "    \"\"\"\n",
        "    # loade the data from .fasta file\n",
        "    file = open(file_name, \"r\")\n",
        "    # reading the whole file\n",
        "    raw_data = file.read()\n",
        "\n",
        "    # doing data clean-up if needed\n",
        "    # if we find \">\" at the start we need to remove this line\n",
        "    # this first line only for mata-data\n",
        "    if raw_data[0] == \">\":\n",
        "        # finding the end of first line by raw_data.find(\"\\n\")\n",
        "        # returns the index of first match\n",
        "        # keep all the string except first line\n",
        "        data = raw_data[raw_data.find(\"\\n\"):]\n",
        "\n",
        "    # removing all the endline parameters from the string\n",
        "    # this will give a long complete string of given refrence genome\n",
        "    data = data.replace(\"\\n\", \"\")\n",
        "    return data"
      ]
    },
    {
      "cell_type": "code",
      "execution_count": null,
      "metadata": {
        "id": "dcaE-aOwKwqk"
      },
      "outputs": [],
      "source": [
        "class DeBruijnGraph:\n",
        "    ''' De Bruijn directed multigraph built from a collection of\n",
        "        strings. User supplies strings and k-mer length k.  Nodes\n",
        "        are k-1-mers.  An Edge corresponds to the k-mer that joins\n",
        "        a left k-1-mer to a right k-1-mer. '''\n",
        " \n",
        "    @staticmethod\n",
        "    def chop(st, k):\n",
        "        ''' Chop string into k-mers of given length '''\n",
        "        for i in range(len(st)-(k-1)):\n",
        "            yield (st[i:i+k], st[i:i+k-1], st[i+1:i+k])\n",
        "    \n",
        "    class Node:\n",
        "        ''' Node representing a k-1 mer.  Keep track of # of\n",
        "            incoming/outgoing edges so it's easy to check for\n",
        "            balanced, semi-balanced. '''\n",
        "        \n",
        "        def __init__(self, km1mer):\n",
        "            self.km1mer = km1mer\n",
        "            self.nin = 0\n",
        "            self.nout = 0\n",
        "        \n",
        "        def isSemiBalanced(self):\n",
        "            return abs(self.nin - self.nout) == 1\n",
        "        \n",
        "        def isBalanced(self):\n",
        "            return self.nin == self.nout\n",
        "        \n",
        "        def __hash__(self):\n",
        "            return hash(self.km1mer)\n",
        "        \n",
        "        def __str__(self):\n",
        "            return self.km1mer\n",
        "    \n",
        "    def __init__(self, strIter, k, circularize=False):\n",
        "        ''' Build de Bruijn multigraph given string iterator and k-mer\n",
        "            length k '''\n",
        "        self.G = {}     # multimap from nodes to neighbors\n",
        "        self.nodes = {} # maps k-1-mers to Node objects\n",
        "        for st in strIter:\n",
        "            if circularize:\n",
        "                st += st[:k-1]\n",
        "            for kmer, km1L, km1R in self.chop(st, k):\n",
        "                nodeL, nodeR = None, None\n",
        "                if km1L in self.nodes:\n",
        "                    nodeL = self.nodes[km1L]\n",
        "                else:\n",
        "                    nodeL = self.nodes[km1L] = self.Node(km1L)\n",
        "                if km1R in self.nodes:\n",
        "                    nodeR = self.nodes[km1R]\n",
        "                else:\n",
        "                    nodeR = self.nodes[km1R] = self.Node(km1R)\n",
        "                nodeL.nout += 1\n",
        "                nodeR.nin += 1\n",
        "                self.G.setdefault(nodeL, []).append(nodeR)\n",
        "        # Iterate over nodes; tally # balanced, semi-balanced, neither\n",
        "        self.nsemi, self.nbal, self.nneither = 0, 0, 0\n",
        "        # Keep track of head and tail nodes in the case of a graph with\n",
        "        # Eularian walk (not cycle)\n",
        "        self.head, self.tail = None, None\n",
        "        for node in iter(self.nodes.values()):\n",
        "            if node.isBalanced():\n",
        "                self.nbal += 1\n",
        "            elif node.isSemiBalanced():\n",
        "                if node.nin == node.nout + 1:\n",
        "                    self.tail = node\n",
        "                if node.nin == node.nout - 1:\n",
        "                    self.head = node\n",
        "                self.nsemi += 1\n",
        "            else:\n",
        "                self.nneither += 1\n",
        "    \n",
        "    def nnodes(self):\n",
        "        ''' Return # nodes '''\n",
        "        return len(self.nodes)\n",
        "    \n",
        "    def nedges(self):\n",
        "        ''' Return # edges '''\n",
        "        return len(self.G)\n",
        "    \n",
        "    def hasEulerianWalk(self):\n",
        "        ''' Return true iff graph has Eulerian walk. '''\n",
        "        return self.nneither == 0 and self.nsemi == 2\n",
        "    \n",
        "    def hasEulerianCycle(self):\n",
        "        ''' Return true iff graph has Eulerian cycle. '''\n",
        "        return self.nneither == 0 and self.nsemi == 0\n",
        "    \n",
        "    def isEulerian(self):\n",
        "        ''' Return true iff graph has Eulerian walk or cycle '''\n",
        "        # technically, if it has an Eulerian walk\n",
        "        return self.hasEulerianWalk() or self.hasEulerianCycle()\n",
        "    \n",
        "    def eulerianWalkOrCycle(self):\n",
        "        ''' Find and return sequence of nodes (represented by\n",
        "            their k-1-mer labels) corresponding to Eulerian walk\n",
        "            or cycle '''\n",
        "        assert self.isEulerian()\n",
        "        g = self.G\n",
        "        if self.hasEulerianWalk():\n",
        "            g = g.copy()\n",
        "            g.setdefault(self.tail, []).append(self.head)\n",
        "        # graph g has an Eulerian cycle\n",
        "        tour = []\n",
        "        src = next(iter(g.keys())) # pick arbitrary starting node\n",
        "        \n",
        "        def __visit(n):\n",
        "            while len(g[n]) > 0:\n",
        "                dst = g[n].pop()\n",
        "                __visit(dst)\n",
        "            tour.append(n)\n",
        "        \n",
        "        __visit(src)\n",
        "        tour = tour[::-1][:-1] # reverse and then take all but last node\n",
        "            \n",
        "        if self.hasEulerianWalk():\n",
        "            # Adjust node list so that it starts at head and ends at tail\n",
        "            sti = tour.index(self.head)\n",
        "            tour = tour[sti:] + tour[:sti]\n",
        "        \n",
        "        # Return node list\n",
        "        return list(map(str, tour))"
      ]
    },
    {
      "cell_type": "code",
      "execution_count": null,
      "metadata": {},
      "outputs": [],
      "source": [
        "# reading the data\n",
        "print(\"Reading the genome from file ...\")\n",
        "data = readGenome(\"../../Data/temp_data.fasta\")"
      ]
    },
    {
      "cell_type": "code",
      "execution_count": null,
      "metadata": {
        "id": "k0prrXoqKwq7"
      },
      "outputs": [],
      "source": [
        "print(\"Building De-Bruijn Graph ...\")\n",
        "graph = DeBruijnGraph([data], k=12, circularize=False)"
      ]
    },
    {
      "cell_type": "code",
      "execution_count": null,
      "metadata": {
        "id": "CKGwUmfmKwq8",
        "outputId": "c4383805-641f-49d5-bfe4-7d59de5c5379"
      },
      "outputs": [],
      "source": [
        "graph.isEulerian(), graph.hasEulerianWalk(), graph.hasEulerianCycle()"
      ]
    },
    {
      "cell_type": "code",
      "execution_count": null,
      "metadata": {
        "id": "X6XFCt2RKwrA",
        "outputId": "31d3824b-ad1b-459a-dac1-deb4da1e7215"
      },
      "outputs": [],
      "source": [
        "# total number of nodes in the graph\n",
        "print(f\"Total number of Nodes in the graph: {graph.nnodes()}\")"
      ]
    },
    {
      "cell_type": "code",
      "execution_count": null,
      "metadata": {
        "id": "A3TprJL9KwrC",
        "outputId": "187e4b9a-964c-4149-923f-bfe7e9faded4"
      },
      "outputs": [],
      "source": [
        "print(\"Started Eulerian walk ...\")\n",
        "walk = graph.eulerianWalkOrCycle()\n",
        "# reconstructing genome from Eulerian walk\n",
        "print(\"Reconstructing Genome from Eulerian walk ...\")\n",
        "cal_genome = walk[0] + ''.join(map(lambda x: x[-1], walk[1:]))"
      ]
    },
    {
      "cell_type": "code",
      "execution_count": null,
      "metadata": {},
      "outputs": [],
      "source": [
        "len(data) == len(cal_genome)"
      ]
    },
    {
      "cell_type": "code",
      "execution_count": null,
      "metadata": {},
      "outputs": [],
      "source": [
        "totalGenes = len(data)\n",
        "totalMatches = 0\n",
        "for i in range(totalGenes):\n",
        "    if data[i] == cal_genome[i]:\n",
        "        totalMatches += 1\n",
        "print(f\"Accuracy of the Genome : {(totalMatches / totalGenes) * 100}\")"
      ]
    },
    {
      "cell_type": "markdown",
      "metadata": {
        "id": "ClWaGZxkKwrb"
      },
      "source": [
        "#### Visualizing the graph"
      ]
    },
    {
      "cell_type": "code",
      "execution_count": null,
      "metadata": {
        "id": "QMvGEqXSKwrd"
      },
      "outputs": [],
      "source": [
        "# import graphviz"
      ]
    },
    {
      "cell_type": "code",
      "execution_count": null,
      "metadata": {
        "id": "HP38bSLmKwrf"
      },
      "outputs": [],
      "source": [
        "# class DeBruijnGraph2(DeBruijnGraph):\n",
        "#     def to_dot(self, weights=False):\n",
        "#         \"\"\" Return string with graphviz representation.  If 'weights'\n",
        "#             is true, label edges corresponding to distinct k-1-mers\n",
        "#             with weights, instead of drawing separate edges for\n",
        "#             k-1-mer copies. \"\"\"\n",
        "#         g = graphviz.Digraph(comment='DeBruijn graph')\n",
        "#         for node in iter(self.G.keys()):\n",
        "#             g.node(node.km1mer, node.km1mer)\n",
        "#         for src, dsts in iter(self.G.items()):\n",
        "#             if weights:\n",
        "#                 weightmap = {}\n",
        "#                 if weights:\n",
        "#                     for dst in dsts:\n",
        "#                         weightmap[dst] = weightmap.get(dst, 0) + 1\n",
        "#                 for dst, v in weightmap.items():\n",
        "#                     g.edge(src.km1mer, dst.km1mer, label=str(v))\n",
        "#             else:\n",
        "#                 for dst in dsts:\n",
        "#                     g.edge(src.km1mer, dst.km1mer)\n",
        "#         return g"
      ]
    },
    {
      "cell_type": "code",
      "execution_count": null,
      "metadata": {
        "id": "o48ozE9pKwrg",
        "outputId": "58495a47-2153-409a-c735-1c7f4cc281b5"
      },
      "outputs": [],
      "source": [
        "# # sing along\n",
        "# DeBruijnGraph2(['to_every_thing_turn_turn_turn_there_is_a_season_turn_turn_turn'], 4).to_dot()"
      ]
    },
    {
      "cell_type": "code",
      "execution_count": null,
      "metadata": {
        "id": "3Er4dJ_QKwrh",
        "outputId": "cf303493-7d65-47fa-dba3-6bd42cb4b335"
      },
      "outputs": [],
      "source": [
        "# # now simplified with edge weights\n",
        "# DeBruijnGraph2(['to_every_thing_turn_turn_turn_there_is_a_season_turn_turn_turn'], 4).to_dot(True)"
      ]
    }
  ],
  "metadata": {
    "anaconda-cloud": {},
    "colab": {
      "name": "CG_deBruijn.ipynb",
      "provenance": []
    },
    "kernelspec": {
      "display_name": "Python 3",
      "language": "python",
      "name": "python3"
    },
    "language_info": {
      "codemirror_mode": {
        "name": "ipython",
        "version": 3
      },
      "file_extension": ".py",
      "mimetype": "text/x-python",
      "name": "python",
      "nbconvert_exporter": "python",
      "pygments_lexer": "ipython3",
      "version": "3.9.7"
    }
  },
  "nbformat": 4,
  "nbformat_minor": 0
}
