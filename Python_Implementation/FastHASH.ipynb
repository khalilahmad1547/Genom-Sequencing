{
 "cells": [
  {
   "cell_type": "code",
   "execution_count": 4,
   "metadata": {},
   "outputs": [],
   "source": [
    "# all the required pakages\n",
    "import re\n",
    "\n",
    "# for saving Hash Table as JSON file to disk\n",
    "import json"
   ]
  },
  {
   "cell_type": "code",
   "execution_count": 5,
   "metadata": {},
   "outputs": [],
   "source": [
    "# a function which can return consective k-mers of a string\n",
    "def getK_mers(str:str, k:int)->list:\n",
    "    \"\"\"\n",
    "    str: a string from which k-mers have to be constructed\n",
    "    k:   length of each k-mer\n",
    "    \"\"\"\n",
    "    k_mers = []\n",
    "    for i in range(len(str) - k + 1):\n",
    "        k_mers.append(str[i: i + k])\n",
    "    \n",
    "    return k_mers"
   ]
  },
  {
   "cell_type": "code",
   "execution_count": 6,
   "metadata": {},
   "outputs": [],
   "source": [
    "def getAllIndex(to_find:str, from_str:str)->list:\n",
    "    \"\"\"\n",
    "    to_find: a short string to find from the other string\n",
    "    from_str: a usally long string in which sub string is to be find\n",
    "    return: this function will returns a list of all the index of to_find(sub string) in the from_str(greater string)\n",
    "    \"\"\"\n",
    "    # using list comprehension + startswith()\n",
    "    # All occurrences of substring in string\n",
    "    res = [i.start() for i in re.finditer(to_find, from_str)]\n",
    "    return res"
   ]
  },
  {
   "cell_type": "code",
   "execution_count": 7,
   "metadata": {},
   "outputs": [],
   "source": [
    "# loade the data from .fasta file\n",
    "file = open(\"../Data/refgen.fasta\", \"r\")\n",
    "# reading the whole file\n",
    "raw_data = file.read()\n",
    "\n",
    "# doing data clean-up if needed\n",
    "# if we find \">\" at the start we need to remove this line\n",
    "# this first line only for mata-data\n",
    "if raw_data[0] == \">\":\n",
    "    # finding the end of first line by raw_data.find(\"\\n\")\n",
    "    # returns the index of first match\n",
    "    # keep all the string except first line\n",
    "    data = raw_data[raw_data.find(\"\\n\"):]\n",
    "\n",
    "# removing all the endline parameters from the string\n",
    "# this will give a long complete string of given refrence genome\n",
    "data = data.replace(\"\\n\", \"\")"
   ]
  },
  {
   "cell_type": "code",
   "execution_count": 8,
   "metadata": {},
   "outputs": [],
   "source": [
    "# a function which returns Hash-Table\n",
    "def getHashTable(ref_genome:str, k:int = 12)->dict:\n",
    "    \"\"\"\n",
    "    ref_genome: a whole genome for which Hash Table has to be build\n",
    "    k: size of k-mer to be taken (by default k = 12)\n",
    "    returns: this function will returns a dict with k-mers as keys\n",
    "        list of all the index (of k-mers) as respective value e.g.\n",
    "        {\n",
    "            \"k_mer_1\":[5, 10, 100],\n",
    "            \"k_mer_2\":[500, 2, 487]\n",
    "        }\n",
    "    \"\"\"\n",
    "    # an empty dict which will store the results\n",
    "    res = {}\n",
    "    for each_k_mer in getK_mers(ref_genome, k):\n",
    "        # saving each k-mer as dict key and list of index as values\n",
    "        res[each_k_mer] = getAllIndex(each_k_mer, ref_genome)\n",
    "    \n",
    "    return res"
   ]
  },
  {
   "cell_type": "code",
   "execution_count": 9,
   "metadata": {},
   "outputs": [],
   "source": [
    "def saveHashTable(hash_table:dict, file_name:str):\n",
    "    \"\"\"\n",
    "    hash_table: a dict which have to be saved\n",
    "    file_name: file name to which data have to be save\n",
    "    \"\"\"\n",
    "    with open(file_name, \"w\") as outfile:\n",
    "        json.dump(hash_table, outfile)"
   ]
  }
 ],
 "metadata": {
  "interpreter": {
   "hash": "340e1a9adda52b6ab894aff57543e626dadf0d33c7827d0fa90d154b5d77dd42"
  },
  "kernelspec": {
   "display_name": "Python 3.9.7 64-bit ('basic_env': conda)",
   "language": "python",
   "name": "python3"
  },
  "language_info": {
   "codemirror_mode": {
    "name": "ipython",
    "version": 3
   },
   "file_extension": ".py",
   "mimetype": "text/x-python",
   "name": "python",
   "nbconvert_exporter": "python",
   "pygments_lexer": "ipython3",
   "version": "3.9.5"
  },
  "orig_nbformat": 4
 },
 "nbformat": 4,
 "nbformat_minor": 2
}
