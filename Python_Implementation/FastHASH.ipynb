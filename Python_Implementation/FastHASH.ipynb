{
 "cells": [
  {
   "cell_type": "code",
   "execution_count": 16,
   "metadata": {},
   "outputs": [],
   "source": [
    "# a function which can return consective k-mers of a string\n",
    "def getK_mers(str:str, k:int):\n",
    "    \"\"\"\n",
    "    str: a string from which k-mers have to be constructed\n",
    "    k:   length of each k-mer\n",
    "    \"\"\"\n",
    "    k_mers = []\n",
    "    for i in range(len(str) - k + 1):\n",
    "        k_mers.append(str[i: i + k])\n",
    "    \n",
    "    return k_mers"
   ]
  }
 ],
 "metadata": {
  "interpreter": {
   "hash": "340e1a9adda52b6ab894aff57543e626dadf0d33c7827d0fa90d154b5d77dd42"
  },
  "kernelspec": {
   "display_name": "Python 3.9.7 64-bit ('basic_env': conda)",
   "language": "python",
   "name": "python3"
  },
  "language_info": {
   "codemirror_mode": {
    "name": "ipython",
    "version": 3
   },
   "file_extension": ".py",
   "mimetype": "text/x-python",
   "name": "python",
   "nbconvert_exporter": "python",
   "pygments_lexer": "ipython3",
   "version": "3.9.7"
  },
  "orig_nbformat": 4
 },
 "nbformat": 4,
 "nbformat_minor": 2
}
